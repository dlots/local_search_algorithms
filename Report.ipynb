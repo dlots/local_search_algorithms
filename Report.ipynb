{
 "cells": [
  {
   "cell_type": "markdown",
   "metadata": {},
   "source": [
    "# Лабораторная работа №3: Генетические алгоритмы\n",
    "### 18ПМИ Богородицкая Екатерина, Сазанов Дмитрий, Селивановская Дарья"
   ]
  },
  {
   "cell_type": "code",
   "execution_count": 1,
   "metadata": {},
   "outputs": [],
   "source": [
    "from iterated_local_search import *\n",
    "import glob\n",
    "from pathlib import Path"
   ]
  },
  {
   "cell_type": "code",
   "execution_count": 2,
   "metadata": {},
   "outputs": [],
   "source": [
    "benchmarks = glob.glob('data/*')\n",
    "\n",
    "\n",
    "best_solutions = { \n",
    "    'tai100a': 21052466,\n",
    "    'tai20a': 703482,\n",
    "    'tai40a': 3139370,\n",
    "    'tai60a': 7205962,\n",
    "    'tai80a': 13499184\n",
    "}\n",
    "\n",
    "data = list() #все данные\n",
    "for file in benchmarks:\n",
    "    data.append(QAPreader(file))"
   ]
  },
  {
   "cell_type": "code",
   "execution_count": 3,
   "metadata": {},
   "outputs": [
    {
     "data": {
      "text/plain": [
       "['data\\\\tai100a',\n",
       " 'data\\\\tai20a',\n",
       " 'data\\\\tai40a',\n",
       " 'data\\\\tai60a',\n",
       " 'data\\\\tai80a']"
      ]
     },
     "execution_count": 3,
     "metadata": {},
     "output_type": "execute_result"
    }
   ],
   "source": [
    "benchmarks"
   ]
  },
  {
   "cell_type": "markdown",
   "metadata": {},
   "source": [
    "## Локальный поиск"
   ]
  },
  {
   "cell_type": "code",
   "execution_count": 4,
   "metadata": {},
   "outputs": [
    {
     "name": "stdout",
     "output_type": "stream",
     "text": [
      "Working on file tai100a_solution\n",
      "Best solution for it: 21052466\n",
      "Our solution for it: 22885716.0\n",
      "---------------------------\n",
      "Working on file tai20a_solution\n",
      "Best solution for it: 703482\n",
      "Our solution for it: 750010.0\n",
      "---------------------------\n",
      "Working on file tai40a_solution\n",
      "Best solution for it: 3139370\n",
      "Our solution for it: 3348194.0\n",
      "---------------------------\n",
      "Working on file tai60a_solution\n",
      "Best solution for it: 7205962\n",
      "Our solution for it: 7637358.0\n",
      "---------------------------\n",
      "Working on file tai80a_solution\n",
      "Best solution for it: 13499184\n",
      "Our solution for it: 14531526.0\n",
      "---------------------------\n"
     ]
    }
   ],
   "source": [
    "Path(\"local_solution\").mkdir(parents=True, exist_ok=True)\n",
    "for i in range(len(benchmarks)):\n",
    "    filename = benchmarks[i][5:]+'_solution'\n",
    "    print(f\"Working on file {filename}\")\n",
    "    solution, cost = solver(data[i])\n",
    "    print(f\"Best solution for it: {best_solutions[benchmarks[i][5:]]}\")\n",
    "    print(f\"Our solution for it: {cost}\")\n",
    "    np.savetxt('local_solution/'+ filename, solution, fmt='%d', newline=' ')\n",
    "    print(\"---------------------------\")"
   ]
  },
  {
   "cell_type": "markdown",
   "metadata": {},
   "source": [
    "## Итеративный локальный поиск"
   ]
  },
  {
   "cell_type": "code",
   "execution_count": 5,
   "metadata": {},
   "outputs": [
    {
     "name": "stdout",
     "output_type": "stream",
     "text": [
      "Working on file tai100a_solution\n",
      "Best solution for it: 21052466\n",
      "Our solution for it: 23906214.0\n",
      "---------------------------\n",
      "Working on file tai20a_solution\n",
      "Best solution for it: 703482\n",
      "Our solution for it: 814792.0\n",
      "---------------------------\n",
      "Working on file tai40a_solution\n",
      "Best solution for it: 3139370\n",
      "Our solution for it: 3665794.0\n",
      "---------------------------\n",
      "Working on file tai60a_solution\n",
      "Best solution for it: 7205962\n",
      "Our solution for it: 8385192.0\n",
      "---------------------------\n",
      "Working on file tai80a_solution\n",
      "Best solution for it: 13499184\n",
      "Our solution for it: 15334994.0\n",
      "---------------------------\n"
     ]
    }
   ],
   "source": [
    "Path(\"iterated_local_solution\").mkdir(parents=True, exist_ok=True)\n",
    "for i in range(len(benchmarks)):\n",
    "    filename = benchmarks[i][5:]+'_solution'\n",
    "    print(f\"Working on file {filename}\")\n",
    "    solution, cost = solver2(data[i])\n",
    "    print(f\"Best solution for it: {best_solutions[benchmarks[i][5:]]}\")\n",
    "    print(f\"Our solution for it: {cost}\")\n",
    "    np.savetxt('iterated_local_solution/'+ filename, solution, fmt='%d', newline=' ')\n",
    "    print(\"---------------------------\")"
   ]
  }
 ],
 "metadata": {
  "kernelspec": {
   "display_name": "Python 3",
   "language": "python",
   "name": "python3"
  },
  "language_info": {
   "codemirror_mode": {
    "name": "ipython",
    "version": 3
   },
   "file_extension": ".py",
   "mimetype": "text/x-python",
   "name": "python",
   "nbconvert_exporter": "python",
   "pygments_lexer": "ipython3",
   "version": "3.8.3"
  }
 },
 "nbformat": 4,
 "nbformat_minor": 5
}
